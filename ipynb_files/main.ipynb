{
 "cells": [
  {
   "cell_type": "code",
   "execution_count": 1,
   "metadata": {},
   "outputs": [
    {
     "name": "stdout",
     "output_type": "stream",
     "text": [
      "importing Jupyter notebook from Data_Functions.ipynb\n"
     ]
    }
   ],
   "source": [
    "import requests\n",
    "from bs4 import BeautifulSoup\n",
    "import pandas as pd\n",
    "import copy\n",
    "import sys\n",
    "import import_ipynb\n",
    "import Data_Functions"
   ]
  },
  {
   "cell_type": "code",
   "execution_count": 2,
   "metadata": {},
   "outputs": [
    {
     "name": "stdout",
     "output_type": "stream",
     "text": [
      "\n",
      "\n",
      "\n",
      "\n",
      "\n",
      "\n",
      "    이름    연도   팀  나이   P    G   타석   타수  득점   안타  ...     타율     출루     장타  \\\n",
      "0  박해민  2019  삼성  29  CF  144  581  506  64  121  ...  0.239  0.318  0.328   \n",
      "1  구자욱  2019  삼성  26  RF  122  526  475  66  127  ...  0.267  0.327  0.444   \n",
      "2  이학주  2019  삼성  29  SS  118  436  385  43  101  ...  0.262  0.332  0.369   \n",
      "3  김헌곤  2019  삼성  31  LF  114  467  411  57  122  ...  0.297  0.362  0.387   \n",
      "4  김동엽  2019  삼성  29  DH   60  211  195  15   42  ...  0.215  0.265  0.338   \n",
      "5  박계범  2019  삼성  23  SS   58  204  168  26   43  ...  0.256  0.354  0.387   \n",
      "\n",
      "     OPS   wOBA   wRC+   WAR*  BABIP    RE24    WPA  \n",
      "0  0.646  0.300   77.0   1.28  0.275  -14.98  -1.36  \n",
      "1  0.771  0.348  107.8   1.98  0.296   13.69   1.16  \n",
      "2  0.701  0.324   92.8   1.80  0.321  -15.98  -0.20  \n",
      "3  0.748  0.346  107.6   1.69  0.315   -1.63  -0.37  \n",
      "4  0.604  0.279   60.7  -0.84  0.250   -6.33   0.08  \n",
      "5  0.740  0.336  100.0   1.02  0.320   -2.91  -0.34  \n",
      "\n",
      "[6 rows x 34 columns]\n",
      "    이름    연도   팀  나이   P    G   타석   타수  득점   안타  ...   wRC+  WAR*  BABIP  \\\n",
      "0  박해민  2019  삼성  29  CF  144  581  506  64  121  ...   77.0  1.28  0.275   \n",
      "1  박해민  2019  삼성  29  CF  144  581  506  64  121  ...   77.0  1.28  0.275   \n",
      "2  박해민  2019  삼성  29  CF  144  581  506  64  121  ...   77.0  1.28  0.275   \n",
      "3  박해민  2019  삼성  29  CF  144  581  506  64  121  ...   77.0  1.28  0.275   \n",
      "4  박해민  2019  삼성  29  CF  144  581  506  64  121  ...   77.0  1.28  0.275   \n",
      "5  박해민  2019  삼성  29  CF  144  581  506  64  121  ...   77.0  1.28  0.275   \n",
      "0  이학주  2019  삼성  29  SS  118  436  385  43  101  ...   92.8  1.80  0.321   \n",
      "1  이학주  2019  삼성  29  SS  118  436  385  43  101  ...   92.8  1.80  0.321   \n",
      "2  이학주  2019  삼성  29  SS  118  436  385  43  101  ...   92.8  1.80  0.321   \n",
      "0  박계범  2019  삼성  23  SS   58  204  168  26   43  ...  100.0  1.02  0.320   \n",
      "1  박계범  2019  삼성  23  SS   58  204  168  26   43  ...  100.0  1.02  0.320   \n",
      "2  박계범  2019  삼성  23  SS   58  204  168  26   43  ...  100.0  1.02  0.320   \n",
      "\n",
      "     RE24    WPA 타순 이닝     상황  스코어     wpa  \n",
      "0  -14.98  -1.36  2  3  무사 1루  0:0  -0.019  \n",
      "1  -14.98  -1.36  1  5  무사 1루  1:1  -0.022  \n",
      "2  -14.98  -1.36  1  8  무사 1루  1:1  -0.019  \n",
      "3  -14.98  -1.36  1  7  무사 1루  2:3  -0.011  \n",
      "4  -14.98  -1.36  1  9  무사 1루  2:1  -0.008  \n",
      "5  -14.98  -1.36  2  1  무사 1루  0:0  -0.018  \n",
      "0  -15.98  -0.20  9  9  무사 1루  1:1  -0.024  \n",
      "1  -15.98  -0.20  9  6  무사 1루  3:3  -0.021  \n",
      "2  -15.98  -0.20  2  8  무사 1루  1:1  -0.019  \n",
      "0   -2.91  -0.34  2  8  무사 1루  2:0  -0.007  \n",
      "1   -2.91  -0.34  8  8  무사 1루  3:3  -0.019  \n",
      "2   -2.91  -0.34  2  5  무사 1루  2:1  -0.016  \n",
      "\n",
      "[12 rows x 39 columns]\n"
     ]
    }
   ],
   "source": [
    "if __name__ == '__main__':\n",
    "#     name_list = ['박해민','구자욱','강민호','러프','이학주','김헌곤','김동엽','박계범']\n",
    "    name_team_list = {\n",
    "                    '삼성' : ['박해민','구자욱','이학주','김헌곤','김동엽','박계범']\n",
    "                   }\n",
    "    year = '2019'\n",
    "    for team in name_team_list:\n",
    "        data_base = Data_Functions.get_stat_year(name_team_list[team],year)\n",
    "        BABIP = Data_Functions.get_BABIP(name_team_list[team],year)\n",
    "        RE24 = Data_Functions.get_RE24(name_team_list[team], year)\n",
    "\n",
    "        #print(data_base)\n",
    "        data_base.insert(31,'BABIP',BABIP)\n",
    "        data_base.insert(32,'RE24',RE24)\n",
    "        print(data_base)\n",
    "\n",
    "        db_sample = Data_Functions.merge_data_and_exp_data(name_team_list[team], data_base, year,'bunt') # merge된 dataset을 db_sample에 리턴\n",
    "#         db_sample.to_csv('stat_data/bunt_sample_'+team+'_'+year+'.csv',encoding = 'euc-kr') # bunt_sample.csv 파일로 저장\n",
    "        print(db_sample)"
   ]
  }
 ],
 "metadata": {
  "kernelspec": {
   "display_name": "Python 3",
   "language": "python",
   "name": "python3"
  },
  "language_info": {
   "codemirror_mode": {
    "name": "ipython",
    "version": 3
   },
   "file_extension": ".py",
   "mimetype": "text/x-python",
   "name": "python",
   "nbconvert_exporter": "python",
   "pygments_lexer": "ipython3",
   "version": "3.7.4"
  }
 },
 "nbformat": 4,
 "nbformat_minor": 2
}
